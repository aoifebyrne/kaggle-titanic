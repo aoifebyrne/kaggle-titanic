{
 "cells": [
  {
   "cell_type": "markdown",
   "metadata": {},
   "source": [
    "## Introduction ##\n",
    "\n",
    "This notebook is written in Python. It is my solution to the Kaggle.com Titanic competition (kaggle.com/c/titanic). It generated a top 19% result. \n",
    "\n",
    "###Question and problem definition###\n",
    "\n",
    "\"On April 15, 1912, during her maiden voyage, the Titanic sank after colliding with an iceberg, killing 1502 out of 2224 passengers and crew. \"\n",
    "\n",
    "\"In this challenge, we ask you to complete the analysis of what sorts of people were likely to survive. In particular, we ask you to apply the tools of machine learning to predict which passengers survived the tragedy.\"\n",
    "\n",
    "##Variable\tDefinition##\t\n",
    "survival\tSurvival\t\n",
    "pclass\t    Ticket class\t\n",
    "sex\t        Sex\t\n",
    "Age\t        Age in years\t\n",
    "sibsp\t    # of siblings / spouses aboard the Titanic\t\n",
    "parch\t    # of parents / children aboard the Titanic\t\n",
    "ticket\t    Ticket number\t\n",
    "fare\t    Passenger fare\t\n",
    "cabin\t    Cabin number\t\n",
    "embarked\tPort of Embarkation\t\n",
    "\n",
    "0 = No, 1 = Yes\n",
    "1 = 1st, 2 = 2nd, 3 = 3rd\n",
    "C = Cherbourg, Q = Queenstown, S = Southampton\n",
    "\n",
    "\n",
    "Steps:\n",
    "\n",
    " 1. Explore and visualize the data.\n",
    " 2. Feature engineering and imputing missing data\n",
    " 3. Prediction using an ensemble method\n"
   ]
  },
  {
   "cell_type": "code",
   "execution_count": 1,
   "metadata": {
    "collapsed": false
   },
   "outputs": [],
   "source": [
    "#Import libraries and data\n",
    "\n",
    "import numpy as np\n",
    "import pandas as pd\n",
    "import seaborn as sns\n",
    "import re as re\n",
    "import matplotlib.pyplot as plt\n",
    "\n",
    "%matplotlib inline\n",
    "\n",
    "\n",
    "train = pd.read_csv('../titanic/train.csv')\n",
    "test = pd.read_csv('../titanic/test.csv')\n",
    "\n",
    "full_data = [train, test]"
   ]
  },
  {
   "cell_type": "markdown",
   "metadata": {},
   "source": [
    "#Exploring the data#"
   ]
  },
  {
   "cell_type": "code",
   "execution_count": 2,
   "metadata": {
    "collapsed": false
   },
   "outputs": [
    {
     "name": "stdout",
     "output_type": "stream",
     "text": [
      "   PassengerId  Survived  Pclass  \\\n",
      "0            1         0       3   \n",
      "1            2         1       1   \n",
      "2            3         1       3   \n",
      "3            4         1       1   \n",
      "4            5         0       3   \n",
      "\n",
      "                                                Name     Sex   Age  SibSp  \\\n",
      "0                            Braund, Mr. Owen Harris    male  22.0      1   \n",
      "1  Cumings, Mrs. John Bradley (Florence Briggs Th...  female  38.0      1   \n",
      "2                             Heikkinen, Miss. Laina  female  26.0      0   \n",
      "3       Futrelle, Mrs. Jacques Heath (Lily May Peel)  female  35.0      1   \n",
      "4                           Allen, Mr. William Henry    male  35.0      0   \n",
      "\n",
      "   Parch            Ticket     Fare Cabin Embarked  \n",
      "0      0         A/5 21171   7.2500   NaN        S  \n",
      "1      0          PC 17599  71.2833   C85        C  \n",
      "2      0  STON/O2. 3101282   7.9250   NaN        S  \n",
      "3      0            113803  53.1000  C123        S  \n",
      "4      0            373450   8.0500   NaN        S  \n",
      "<class 'pandas.core.frame.DataFrame'>\n",
      "RangeIndex: 891 entries, 0 to 890\n",
      "Data columns (total 12 columns):\n",
      "PassengerId    891 non-null int64\n",
      "Survived       891 non-null int64\n",
      "Pclass         891 non-null int64\n",
      "Name           891 non-null object\n",
      "Sex            891 non-null object\n",
      "Age            714 non-null float64\n",
      "SibSp          891 non-null int64\n",
      "Parch          891 non-null int64\n",
      "Ticket         891 non-null object\n",
      "Fare           891 non-null float64\n",
      "Cabin          204 non-null object\n",
      "Embarked       889 non-null object\n",
      "dtypes: float64(2), int64(5), object(5)\n",
      "memory usage: 83.6+ KB\n"
     ]
    }
   ],
   "source": [
    "print(train.head())\n",
    "train.describe()\n",
    "train.info()"
   ]
  },
  {
   "cell_type": "markdown",
   "metadata": {},
   "source": [
    "Notes:\n",
    "\n",
    " - Check if PassengerID can be dropped \n",
    " - Create family size column \n",
    " - Create solo traveller column \n",
    " - Create title column"
   ]
  },
  {
   "cell_type": "markdown",
   "metadata": {},
   "source": [
    "##PassengerId##"
   ]
  },
  {
   "cell_type": "code",
   "execution_count": 3,
   "metadata": {
    "collapsed": false
   },
   "outputs": [
    {
     "data": {
      "text/plain": [
       "array([[ 1.        , -0.00500666],\n",
       "       [-0.00500666,  1.        ]])"
      ]
     },
     "execution_count": 3,
     "metadata": {},
     "output_type": "execute_result"
    }
   ],
   "source": [
    "from numpy import corrcoef\n",
    "\n",
    "corrcoef(train[\"PassengerId\"], train[\"Survived\"])"
   ]
  },
  {
   "cell_type": "code",
   "execution_count": 4,
   "metadata": {
    "collapsed": true
   },
   "outputs": [],
   "source": [
    "#drop passenger id\n",
    "\n",
    "train = train.drop('PassengerId', 1)\n",
    "test = test.drop('PassengerId', 1)"
   ]
  },
  {
   "cell_type": "markdown",
   "metadata": {},
   "source": [
    "## Sex ##"
   ]
  },
  {
   "cell_type": "code",
   "execution_count": 5,
   "metadata": {
    "collapsed": false
   },
   "outputs": [
    {
     "name": "stdout",
     "output_type": "stream",
     "text": [
      "      Sex  Survived\n",
      "0  female  0.742038\n",
      "1    male  0.188908\n"
     ]
    }
   ],
   "source": [
    "print (train[[\"Sex\", \"Survived\"]].groupby(['Sex'], as_index=False).mean())"
   ]
  },
  {
   "cell_type": "markdown",
   "metadata": {},
   "source": [
    "## SibSp and Parch ##\n",
    "\n",
    "SibSp = # of siblings / spouses aboard the Titanic\n",
    "\n",
    "Parch = # of parents / children aboard the Titanic\n",
    "\n",
    "It seems likely that family size will influence survival rates. I will create a family size column. "
   ]
  },
  {
   "cell_type": "code",
   "execution_count": 6,
   "metadata": {
    "collapsed": false
   },
   "outputs": [
    {
     "name": "stdout",
     "output_type": "stream",
     "text": [
      "   Parch  Survived\n",
      "0      0  0.343658\n",
      "1      1  0.550847\n",
      "2      2  0.500000\n",
      "3      3  0.600000\n",
      "4      4  0.000000\n",
      "5      5  0.200000\n",
      "6      6  0.000000\n"
     ]
    }
   ],
   "source": [
    "print (train[[\"Parch\", \"Survived\"]].groupby(['Parch'], as_index=False).mean())"
   ]
  },
  {
   "cell_type": "code",
   "execution_count": 7,
   "metadata": {
    "collapsed": false
   },
   "outputs": [
    {
     "name": "stdout",
     "output_type": "stream",
     "text": [
      "   Famsize  Survived\n",
      "0        1       537\n",
      "1        2       161\n",
      "2        3       102\n",
      "3        4        29\n",
      "4        5        15\n",
      "5        6        22\n",
      "6        7        12\n",
      "7        8         6\n",
      "8       11         7\n"
     ]
    }
   ],
   "source": [
    "train[\"Famsize\"] = train[\"Parch\"]+ train[\"SibSp\"]+1\n",
    "test[\"Famsize\"] = test[\"Parch\"]+ test[\"SibSp\"]+1\n",
    "\n",
    "\n",
    "print (train[[\"Famsize\", \"Survived\"]].groupby(['Famsize'], as_index=False).count())"
   ]
  },
  {
   "cell_type": "code",
   "execution_count": 8,
   "metadata": {
    "collapsed": false
   },
   "outputs": [
    {
     "data": {
      "text/plain": [
       "<seaborn.axisgrid.FacetGrid at 0x110473790>"
      ]
     },
     "execution_count": 8,
     "metadata": {},
     "output_type": "execute_result"
    },
    {
     "data": {
      "image/png": "[encoded data removed]",
      "text/plain": [
       "<matplotlib.figure.Figure at 0x11093b810>"
      ]
     },
     "metadata": {},
     "output_type": "display_data"
    }
   ],
   "source": [
    "sns.factorplot(x=\"Famsize\", y=\"Survived\", data=train)"
   ]
  },
  {
   "cell_type": "markdown",
   "metadata": {},
   "source": [
    "##Lone Child##\n",
    "\n",
    "Are children travelling alone, who are teenagers or travelling with a nanny, more likely to survive? Are there enough passengers in this category to make it a worthwhile measure?"
   ]
  },
  {
   "cell_type": "code",
   "execution_count": 9,
   "metadata": {
    "collapsed": false
   },
   "outputs": [
    {
     "name": "stdout",
     "output_type": "stream",
     "text": [
      "     Survived  Pclass                                               Name  \\\n",
      "9           1       2                Nasser, Mrs. Nicholas (Adele Achem)   \n",
      "14          0       3               Vestrom, Miss. Hulda Amanda Adolfina   \n",
      "22          1       3                        McGowan, Miss. Anna \"Annie\"   \n",
      "39          1       3                        Nicola-Yarred, Miss. Jamila   \n",
      "84          1       2                                Ilett, Miss. Bertha   \n",
      "111         0       3                               Zabour, Miss. Hileni   \n",
      "114         0       3                              Attalah, Miss. Malake   \n",
      "125         1       3                       Nicola-Yarred, Master. Elias   \n",
      "138         0       3                                Osen, Mr. Olaf Elon   \n",
      "156         1       3                   Gilnagh, Miss. Katherine \"Katie\"   \n",
      "163         0       3                                    Calic, Mr. Jovo   \n",
      "208         1       3                          Carr, Miss. Helen \"Ellen\"   \n",
      "220         1       3                     Sunderland, Mr. Victor Francis   \n",
      "282         0       3                          de Pelsmaeker, Mr. Alfons   \n",
      "307         1       1  Penasco y Castellana, Mrs. Victor de Satode (M...   \n",
      "333         0       3                    Vander Planke, Mr. Leo Edmondus   \n",
      "389         1       2                              Lehmann, Miss. Bertha   \n",
      "433         0       3                         Kallio, Mr. Nikolai Erland   \n",
      "500         0       3                                   Calic, Mr. Petar   \n",
      "504         1       1                              Maioni, Miss. Roberta   \n",
      "574         0       3                       Rush, Mr. Alfred George John   \n",
      "721         0       3                          Jensen, Mr. Svend Lauritz   \n",
      "731         0       3                           Hassan, Mr. Houssein G N   \n",
      "764         0       3                             Eklund, Mr. Hans Linus   \n",
      "777         1       3                      Emanuel, Miss. Virginia Ethel   \n",
      "780         1       3                               Ayoub, Miss. Banoura   \n",
      "781         1       1          Dick, Mrs. Albert Adrian (Vera Gillespie)   \n",
      "791         0       2                                Gaskell, Mr. Alfred   \n",
      "830         1       3            Yasbeck, Mrs. Antoni (Selini Alexander)   \n",
      "841         0       2                           Mudd, Mr. Thomas Charles   \n",
      "844         0       3                                Culumovic, Mr. Jeso   \n",
      "875         1       3                   Najib, Miss. Adele Kiamie \"Jane\"   \n",
      "\n",
      "        Sex   Age  SibSp  Parch             Ticket      Fare Cabin Embarked  \\\n",
      "9    female  14.0      1      0             237736   30.0708   NaN        C   \n",
      "14   female  14.0      0      0             350406    7.8542   NaN        S   \n",
      "22   female  15.0      0      0             330923    8.0292   NaN        Q   \n",
      "39   female  14.0      1      0               2651   11.2417   NaN        C   \n",
      "84   female  17.0      0      0         SO/C 14885   10.5000   NaN        S   \n",
      "111  female  14.5      1      0               2665   14.4542   NaN        C   \n",
      "114  female  17.0      0      0               2627   14.4583   NaN        C   \n",
      "125    male  12.0      1      0               2651   11.2417   NaN        C   \n",
      "138    male  16.0      0      0               7534    9.2167   NaN        S   \n",
      "156  female  16.0      0      0              35851    7.7333   NaN        Q   \n",
      "163    male  17.0      0      0             315093    8.6625   NaN        S   \n",
      "208  female  16.0      0      0             367231    7.7500   NaN        Q   \n",
      "220    male  16.0      0      0    SOTON/OQ 392089    8.0500   NaN        S   \n",
      "282    male  16.0      0      0             345778    9.5000   NaN        S   \n",
      "307  female  17.0      1      0           PC 17758  108.9000   C65        C   \n",
      "333    male  16.0      2      0             345764   18.0000   NaN        S   \n",
      "389  female  17.0      0      0            SC 1748   12.0000   NaN        C   \n",
      "433    male  17.0      0      0  STON/O 2. 3101274    7.1250   NaN        S   \n",
      "500    male  17.0      0      0             315086    8.6625   NaN        S   \n",
      "504  female  16.0      0      0             110152   86.5000   B79        S   \n",
      "574    male  16.0      0      0         A/4. 20589    8.0500   NaN        S   \n",
      "721    male  17.0      1      0             350048    7.0542   NaN        S   \n",
      "731    male  11.0      0      0               2699   18.7875   NaN        C   \n",
      "764    male  16.0      0      0             347074    7.7750   NaN        S   \n",
      "777  female   5.0      0      0             364516   12.4750   NaN        S   \n",
      "780  female  13.0      0      0               2687    7.2292   NaN        C   \n",
      "781  female  17.0      1      0              17474   57.0000   B20        S   \n",
      "791    male  16.0      0      0             239865   26.0000   NaN        S   \n",
      "830  female  15.0      1      0               2659   14.4542   NaN        C   \n",
      "841    male  16.0      0      0        S.O./P.P. 3   10.5000   NaN        S   \n",
      "844    male  17.0      0      0             315090    8.6625   NaN        S   \n",
      "875  female  15.0      0      0               2667    7.2250   NaN        C   \n",
      "\n",
      "     Famsize  \n",
      "9          2  \n",
      "14         1  \n",
      "22         1  \n",
      "39         2  \n",
      "84         1  \n",
      "111        2  \n",
      "114        1  \n",
      "125        2  \n",
      "138        1  \n",
      "156        1  \n",
      "163        1  \n",
      "208        1  \n",
      "220        1  \n",
      "282        1  \n",
      "307        2  \n",
      "333        3  \n",
      "389        1  \n",
      "433        1  \n",
      "500        1  \n",
      "504        1  \n",
      "574        1  \n",
      "721        2  \n",
      "731        1  \n",
      "764        1  \n",
      "777        1  \n",
      "780        1  \n",
      "781        2  \n",
      "791        1  \n",
      "830        2  \n",
      "841        1  \n",
      "844        1  \n",
      "875        1  \n"
     ]
    }
   ],
   "source": [
    "#No parents\n",
    "\n",
    "print(train.loc[(train[\"Parch\"]==0) & (train[\"Age\"]<18)])\n",
    "\n",
    "train[\"LoneChild\"] = 0\n",
    "train.loc[(train[\"Parch\"]==0) & (train[\"Age\"]<18), \"LoneChild\"] = 1"
   ]
  },
  {
   "cell_type": "code",
   "execution_count": 10,
   "metadata": {
    "collapsed": false
   },
   "outputs": [
    {
     "name": "stdout",
     "output_type": "stream",
     "text": [
      "   LoneChild  Survived\n",
      "0          0  0.379511\n",
      "1          1  0.500000\n"
     ]
    },
    {
     "data": {
      "text/plain": [
       "<seaborn.axisgrid.FacetGrid at 0x11ac94910>"
      ]
     },
     "execution_count": 10,
     "metadata": {},
     "output_type": "execute_result"
    },
    {
     "data": {
      "image/png": "[encoded data removed]",
      "text/plain": [
       "<matplotlib.figure.Figure at 0x11d0f0d10>"
      ]
     },
     "metadata": {},
     "output_type": "display_data"
    }
   ],
   "source": [
    "print (train[[\"LoneChild\", \"Survived\"]].groupby(['LoneChild'], as_index=False).mean())\n",
    "sns.factorplot(x=\"LoneChild\", y=\"Survived\", data=train)"
   ]
  },
  {
   "cell_type": "markdown",
   "metadata": {},
   "source": [
    "Conclusion: \n",
    "Not a useful measure"
   ]
  },
  {
   "cell_type": "code",
   "execution_count": 11,
   "metadata": {
    "collapsed": true
   },
   "outputs": [],
   "source": [
    "train = train.drop(\"LoneChild\", 1)"
   ]
  },
  {
   "cell_type": "markdown",
   "metadata": {},
   "source": [
    "##Alone##"
   ]
  },
  {
   "cell_type": "code",
   "execution_count": 13,
   "metadata": {
    "collapsed": false
   },
   "outputs": [
    {
     "data": {
      "text/plain": [
       "<seaborn.axisgrid.FacetGrid at 0x11d5fcf10>"
      ]
     },
     "execution_count": 13,
     "metadata": {},
     "output_type": "execute_result"
    },
    {
     "data": {
      "image/png": "[encoded data removed]",
      "text/plain": [
       "<matplotlib.figure.Figure at 0x11d623850>"
      ]
     },
     "metadata": {},
     "output_type": "display_data"
    }
   ],
   "source": [
    "train['Alone'] = 0\n",
    "train.loc[train['Famsize'] == 1, 'Alone'] = 1\n",
    "\n",
    "test['Alone'] = 0\n",
    "test.loc[test['Famsize'] == 1, 'Alone'] = 1\n",
    "    \n",
    "sns.factorplot(x=\"Alone\", y=\"Survived\", data=train)"
   ]
  },
  {
   "cell_type": "markdown",
   "metadata": {},
   "source": [
    "## Embarked ##\n",
    "The embarked feature has some missing value. and we try to fill those with the most occurred value ( 'S' )."
   ]
  },
  {
   "cell_type": "code",
   "execution_count": 14,
   "metadata": {
    "collapsed": false
   },
   "outputs": [
    {
     "data": {
      "text/plain": [
       "<seaborn.axisgrid.FacetGrid at 0x11d623110>"
      ]
     },
     "execution_count": 14,
     "metadata": {},
     "output_type": "execute_result"
    },
    {
     "data": {
      "image/png": "[encoded data removed]",
      "text/plain": [
       "<matplotlib.figure.Figure at 0x11d623510>"
      ]
     },
     "metadata": {},
     "output_type": "display_data"
    }
   ],
   "source": [
    "sns.factorplot('Embarked','Survived', data=train)"
   ]
  },
  {
   "cell_type": "code",
   "execution_count": 15,
   "metadata": {
    "collapsed": false
   },
   "outputs": [
    {
     "name": "stdout",
     "output_type": "stream",
     "text": [
      "Mean\n",
      "  Embarked  Survived\n",
      "0        C  0.553571\n",
      "1        Q  0.389610\n",
      "2        S  0.336957\n",
      "Count\n",
      "  Embarked  Survived\n",
      "0        C       168\n",
      "1        Q        77\n",
      "2        S       644\n"
     ]
    }
   ],
   "source": [
    "print(\"Mean\")\n",
    "print (train[[\"Embarked\", \"Survived\"]].groupby(['Embarked'], as_index=False).mean())\n",
    "\n",
    "print(\"Count\")\n",
    "print (train[[\"Embarked\", \"Survived\"]].groupby(['Embarked'], as_index=False).count())"
   ]
  },
  {
   "cell_type": "code",
   "execution_count": 16,
   "metadata": {
    "collapsed": false
   },
   "outputs": [
    {
     "data": {
      "text/plain": [
       "<matplotlib.axes._subplots.AxesSubplot at 0x11d677850>"
      ]
     },
     "execution_count": 16,
     "metadata": {},
     "output_type": "execute_result"
    },
    {
     "data": {
      "image/png": "[encoded data removed]",
      "text/plain": [
       "<matplotlib.figure.Figure at 0x11d8830d0>"
      ]
     },
     "metadata": {},
     "output_type": "display_data"
    }
   ],
   "source": [
    "sns.countplot(x='Survived', hue=\"Embarked\", data=train, order=[1,0])"
   ]
  },
  {
   "cell_type": "code",
   "execution_count": 17,
   "metadata": {
    "collapsed": false
   },
   "outputs": [
    {
     "name": "stderr",
     "output_type": "stream",
     "text": [
      "/anaconda/lib/python2.7/site-packages/ipykernel/__main__.py:3: SettingWithCopyWarning: \n",
      "A value is trying to be set on a copy of a slice from a DataFrame\n",
      "\n",
      "See the caveats in the documentation: http://pandas.pydata.org/pandas-docs/stable/indexing.html#indexing-view-versus-copy\n",
      "  app.launch_new_instance()\n",
      "/anaconda/lib/python2.7/site-packages/ipykernel/__main__.py:4: SettingWithCopyWarning: \n",
      "A value is trying to be set on a copy of a slice from a DataFrame\n",
      "\n",
      "See the caveats in the documentation: http://pandas.pydata.org/pandas-docs/stable/indexing.html#indexing-view-versus-copy\n"
     ]
    }
   ],
   "source": [
    "#fill in missing values with median value\n",
    "\n",
    "train[\"Embarked\"][train[\"Embarked\"].isnull()] = 'S'\n",
    "test[\"Embarked\"][test[\"Embarked\"].isnull()] = 'S'"
   ]
  },
  {
   "cell_type": "markdown",
   "metadata": {},
   "source": [
    "## Fare ##\n",
    "Fare also has some missing value and we will replace it with the median. then we categorize it into 4 ranges."
   ]
  },
  {
   "cell_type": "code",
   "execution_count": 18,
   "metadata": {
    "collapsed": false
   },
   "outputs": [
    {
     "data": {
      "text/html": [
       "<div>\n",
       "<table border=\"1\" class=\"dataframe\">\n",
       "  <thead>\n",
       "    <tr style=\"text-align: right;\">\n",
       "      <th></th>\n",
       "      <th>Survived</th>\n",
       "      <th>Pclass</th>\n",
       "      <th>Name</th>\n",
       "      <th>Sex</th>\n",
       "      <th>Age</th>\n",
       "      <th>SibSp</th>\n",
       "      <th>Parch</th>\n",
       "      <th>Ticket</th>\n",
       "      <th>Fare</th>\n",
       "      <th>Cabin</th>\n",
       "      <th>Embarked</th>\n",
       "      <th>Famsize</th>\n",
       "      <th>Alone</th>\n",
       "    </tr>\n",
       "  </thead>\n",
       "  <tbody>\n",
       "  </tbody>\n",
       "</table>\n",
       "</div>"
      ],
      "text/plain": [
       "Empty DataFrame\n",
       "Columns: [Survived, Pclass, Name, Sex, Age, SibSp, Parch, Ticket, Fare, Cabin, Embarked, Famsize, Alone]\n",
       "Index: []"
      ]
     },
     "execution_count": 18,
     "metadata": {},
     "output_type": "execute_result"
    }
   ],
   "source": [
    "train[train['Embarked'].isnull()]"
   ]
  },
  {
   "cell_type": "code",
   "execution_count": 19,
   "metadata": {
    "collapsed": false
   },
   "outputs": [
    {
     "data": {
      "text/plain": [
       "0      S\n",
       "1      C\n",
       "2      S\n",
       "3      S\n",
       "4      S\n",
       "5      Q\n",
       "6      S\n",
       "7      S\n",
       "8      S\n",
       "9      C\n",
       "10     S\n",
       "11     S\n",
       "12     S\n",
       "13     S\n",
       "14     S\n",
       "15     S\n",
       "16     Q\n",
       "17     S\n",
       "18     S\n",
       "19     C\n",
       "20     S\n",
       "21     S\n",
       "22     Q\n",
       "23     S\n",
       "24     S\n",
       "25     S\n",
       "26     C\n",
       "27     S\n",
       "28     Q\n",
       "29     S\n",
       "      ..\n",
       "861    S\n",
       "862    S\n",
       "863    S\n",
       "864    S\n",
       "865    S\n",
       "866    C\n",
       "867    S\n",
       "868    S\n",
       "869    S\n",
       "870    S\n",
       "871    S\n",
       "872    S\n",
       "873    S\n",
       "874    C\n",
       "875    C\n",
       "876    S\n",
       "877    S\n",
       "878    S\n",
       "879    C\n",
       "880    S\n",
       "881    S\n",
       "882    S\n",
       "883    S\n",
       "884    S\n",
       "885    Q\n",
       "886    S\n",
       "887    S\n",
       "888    S\n",
       "889    C\n",
       "890    Q\n",
       "Name: Embarked, dtype: object"
      ]
     },
     "execution_count": 19,
     "metadata": {},
     "output_type": "execute_result"
    }
   ],
   "source": [
    "train['Embarked'].fillna('S')"
   ]
  },
  {
   "cell_type": "code",
   "execution_count": 20,
   "metadata": {
    "collapsed": false
   },
   "outputs": [
    {
     "name": "stdout",
     "output_type": "stream",
     "text": [
      "  CategoricalFare  Survived\n",
      "0       [0, 7.91]  0.197309\n",
      "1  (7.91, 14.454]  0.303571\n",
      "2    (14.454, 31]  0.454955\n",
      "3   (31, 512.329]  0.581081\n"
     ]
    }
   ],
   "source": [
    "for dataset in full_data:\n",
    "    dataset['Fare'] = dataset['Fare'].fillna(train['Fare'].median())\n",
    "train['CategoricalFare'] = pd.qcut(train['Fare'], 4)\n",
    "print (train[['CategoricalFare', 'Survived']].groupby(['CategoricalFare'], as_index=False).mean())"
   ]
  },
  {
   "cell_type": "markdown",
   "metadata": {},
   "source": [
    "## Age ##\n",
    "Need to fill missing values."
   ]
  },
  {
   "cell_type": "code",
   "execution_count": 33,
   "metadata": {
    "collapsed": false
   },
   "outputs": [
    {
     "name": "stderr",
     "output_type": "stream",
     "text": [
      "/anaconda/lib/python2.7/site-packages/ipykernel/__main__.py:7: SettingWithCopyWarning: \n",
      "A value is trying to be set on a copy of a slice from a DataFrame\n",
      "\n",
      "See the caveats in the documentation: http://pandas.pydata.org/pandas-docs/stable/indexing.html#indexing-view-versus-copy\n"
     ]
    }
   ],
   "source": [
    "for dataset in [train, test]:\n",
    "    avg_age = dataset['Age'].mean()\n",
    "    std_age = dataset['Age'].std()\n",
    "    age_null_count = dataset['Age'].isnull().sum()\n",
    "    \n",
    "    random_age = np.random.randint(avg_age - std_age, avg_age + std_age, size=age_null_count)\n",
    "    dataset['Age'][dataset['Age'].isnull()] = random_age\n",
    "    dataset['Age'] = dataset['Age'].astype(int)\n",
    "    "
   ]
  },
  {
   "cell_type": "code",
   "execution_count": 35,
   "metadata": {
    "collapsed": false
   },
   "outputs": [
    {
     "data": {
      "text/plain": [
       "array([[ 1.        , -0.07176934],\n",
       "       [-0.07176934,  1.        ]])"
      ]
     },
     "execution_count": 35,
     "metadata": {},
     "output_type": "execute_result"
    }
   ],
   "source": [
    "\n",
    "np.corrcoef(train[\"Age\"], train[\"Survived\"])"
   ]
  },
  {
   "cell_type": "code",
   "execution_count": 29,
   "metadata": {
    "collapsed": false
   },
   "outputs": [
    {
     "data": {
      "text/plain": [
       "<seaborn.axisgrid.FacetGrid at 0x11d75f6d0>"
      ]
     },
     "execution_count": 29,
     "metadata": {},
     "output_type": "execute_result"
    },
    {
     "data": {
      "image/png": "[encoded data removed]",
      "text/plain": [
       "<matplotlib.figure.Figure at 0x11d280290>"
      ]
     },
     "metadata": {},
     "output_type": "display_data"
    }
   ],
   "source": [
    "# peaks for survived/not survived passengers by their age\n",
    "facet = sns.FacetGrid(train, hue=\"Survived\",aspect=3)\n",
    "facet.map(sns.kdeplot,'Age',shade= True)\n",
    "facet.set(xlim=(0, train['Age'].max()))\n",
    "facet.add_legend()"
   ]
  },
  {
   "cell_type": "markdown",
   "metadata": {},
   "source": [
    "## 7. Name ##\n",
    "inside this feature we can find the title of people."
   ]
  },
  {
   "cell_type": "code",
   "execution_count": 32,
   "metadata": {
    "collapsed": false
   },
   "outputs": [
    {
     "name": "stdout",
     "output_type": "stream",
     "text": [
      "Sex       female  male\n",
      "Title                 \n",
      "Capt           0     1\n",
      "Col            0     2\n",
      "Countess       1     0\n",
      "Don            0     1\n",
      "Dr             1     6\n",
      "Jonkheer       0     1\n",
      "Lady           1     0\n",
      "Major          0     2\n",
      "Master         0    40\n",
      "Miss         182     0\n",
      "Mlle           2     0\n",
      "Mme            1     0\n",
      "Mr             0   517\n",
      "Mrs          125     0\n",
      "Ms             1     0\n",
      "Rev            0     6\n",
      "Sir            0     1\n"
     ]
    }
   ],
   "source": [
    "def get_title(name):\n",
    "    title_search = re.search(' ([A-Za-z]+)\\.', name)\n",
    "\t# If the title exists, extract and return it.\n",
    "    if title_search:\n",
    "\t\treturn title_search.group(1)\n",
    "    return \"\"\n",
    "\n",
    "for dataset in [train, test]:\n",
    "    dataset['Title'] = dataset['Name'].apply(get_title)\n",
    "\n",
    "print pd.crosstab(train['Title'], train['Sex'])"
   ]
  },
  {
   "cell_type": "markdown",
   "metadata": {},
   "source": [
    " so we have titles. let's categorize it and check the title impact on survival rate."
   ]
  },
  {
   "cell_type": "code",
   "execution_count": 36,
   "metadata": {
    "collapsed": false
   },
   "outputs": [
    {
     "name": "stdout",
     "output_type": "stream",
     "text": [
      "       Title  Survived\n",
      "0       Capt  0.000000\n",
      "1        Col  0.500000\n",
      "2   Countess  1.000000\n",
      "3        Don  0.000000\n",
      "4         Dr  0.428571\n",
      "5   Jonkheer  0.000000\n",
      "6       Lady  1.000000\n",
      "7      Major  0.500000\n",
      "8     Master  0.575000\n",
      "9       Miss  0.697802\n",
      "10      Mlle  1.000000\n",
      "11       Mme  1.000000\n",
      "12        Mr  0.156673\n",
      "13       Mrs  0.792000\n",
      "14        Ms  1.000000\n",
      "15       Rev  0.000000\n",
      "16       Sir  1.000000\n"
     ]
    }
   ],
   "source": [
    "for dataset in full_data:\n",
    "    dataset['Title'] = dataset['Title'].replace(['Lady', 'Countess','Capt', 'Col',\\\n",
    " \t'Don', 'Dr', 'Major', 'Rev', 'Sir', 'Jonkheer', 'Dona'], 'Rare')\n",
    "\n",
    "    dataset['Title'] = dataset['Title'].replace('Mlle', 'Miss')\n",
    "    dataset['Title'] = dataset['Title'].replace('Ms', 'Miss')\n",
    "    dataset['Title'] = dataset['Title'].replace('Mme', 'Mrs')\n",
    "\n",
    "print (train[['Title', 'Survived']].groupby(['Title'], as_index=False).mean())"
   ]
  },
  {
   "cell_type": "markdown",
   "metadata": {},
   "source": [
    "#Data cleaning#\n"
   ]
  },
  {
   "cell_type": "code",
   "execution_count": 37,
   "metadata": {
    "collapsed": true
   },
   "outputs": [],
   "source": [
    "#encoding categorical variable\n",
    "\n",
    "from sklearn.preprocessing import LabelEncoder\n",
    "\n",
    "categories = ['Embarked','Sex','Title']\n",
    "\n",
    "for cat in categories:\n",
    "    train[cat] = LabelEncoder().fit_transform(train[cat])\n",
    "    test[cat] = LabelEncoder().fit_transform(test[cat])"
   ]
  },
  {
   "cell_type": "code",
   "execution_count": 39,
   "metadata": {
    "collapsed": true
   },
   "outputs": [],
   "source": [
    "#dropping irrelevant columns\n",
    "\n",
    "drop_elements = ['Name', 'Ticket', 'Cabin', 'SibSp',\\\n",
    "                 'Parch']\n",
    "\n",
    "train = train.drop(drop_elements, axis = 1)\n",
    "test = test.drop(drop_elements, axis = 1)"
   ]
  },
  {
   "cell_type": "code",
   "execution_count": null,
   "metadata": {
    "collapsed": true
   },
   "outputs": [],
   "source": [
    "#Classification#"
   ]
  },
  {
   "cell_type": "code",
   "execution_count": null,
   "metadata": {
    "collapsed": false
   },
   "outputs": [],
   "source": [
    "#Comparing algorithms\n",
    "\n",
    "from sklearn.cross_validation import train_test_split\n",
    "from sklearn.cross_validation import cross_val_score\n",
    "\n",
    "from sklearn.model_selection import StratifiedShuffleSplit\n",
    "from sklearn.metrics import accuracy_score, log_loss\n",
    "from sklearn.neighbors import KNeighborsClassifier\n",
    "from sklearn.svm import SVC\n",
    "from sklearn.tree import DecisionTreeClassifier\n",
    "from sklearn.ensemble import RandomForestClassifier, AdaBoostClassifier, GradientBoostingClassifier\n",
    "from sklearn.naive_bayes import GaussianNB\n",
    "from sklearn.discriminant_analysis import LinearDiscriminantAnalysis, QuadraticDiscriminantAnalysis\n",
    "from sklearn.linear_model import LogisticRegression\n",
    "\n",
    "classifiers = [\n",
    "    [KNeighborsClassifier(3),'KNN'],\n",
    "    [SVC(probability=True), 'SVC'],\n",
    "    [DecisionTreeClassifier(),'Decision Tree'],\n",
    "    [RandomForestClassifier(),'Random Forest'],\n",
    "    [AdaBoostClassifier(),'ADA booster'],\n",
    "    [GradientBoostingClassifier(),'Gradient Booster'],\n",
    "    [GaussianNB(),'Gaussian Nb'],\n",
    "    [LinearDiscriminantAnalysis(),'Linear Discriminant Analysis'],\n",
    "    [QuadraticDiscriminantAnalysis(),'Quadratic Discrimination'],\n",
    "    [LogisticRegression(),'Logistic Regression']]\n",
    "\n",
    "\n",
    "X = train.drop(\"Survived\",axis=1)\n",
    "y = train[\"Survived\"]\n",
    "X_test  = test\n",
    "\n",
    "\n",
    "\n",
    "scores = []\n",
    "\n",
    "for clf in classifiers:\n",
    "    \n",
    "    clf = clf[0]\n",
    "    \n",
    "    clf.fit(X,y)\n",
    "    y_pred = clf.predict(X_test)\n",
    "    \n",
    "    cv_scores = cross_val_score(clf, X, y, cv=5)\n",
    "\n",
    "    #score = clf.score(X,y)\n",
    "    scores.append(cv_scores.mean())\n",
    "    "
   ]
  },
  {
   "cell_type": "code",
   "execution_count": null,
   "metadata": {
    "collapsed": false
   },
   "outputs": [],
   "source": [
    "#viewing classifier scores\n",
    "\n",
    "names = [clf[1] for clf in classifiers]\n",
    "\n",
    "\n",
    "np.column_stack((names, scores))"
   ]
  },
  {
   "cell_type": "code",
   "execution_count": null,
   "metadata": {
    "collapsed": false
   },
   "outputs": [],
   "source": [
    "from sklearn.ensemble import RandomForestClassifier\n",
    "from sklearn.svm import SVC\n",
    "\n",
    "test[\"PassengerId\"] = test[\"PassengerId\"].astype(int)\n",
    "\n",
    "predictors = [\"Pclass\", \"Sex\", \"Age\", \"Fare\", \"Embarked\", \"Famsize\", \"Title\", \"Alone\"]\n",
    "\n",
    "algorithms = [GaussianNB(), LinearDiscriminantAnalysis(), GradientBoostingClassifier(random_state=1, n_estimators=25, max_depth=3),\n",
    "LogisticRegression(random_state=1),RandomForestClassifier(random_state=1, n_estimators = 50, min_samples_split=4, min_samples_leaf=2)]\n",
    "\n",
    "\n",
    "predictions = []\n",
    "train_target = train[\"Survived\"]\n",
    "full_test_predictions = []\n",
    "\n",
    "    # Make predictions for each algorithm on each fold\n",
    "for alg in algorithms:\n",
    "        # Fit the algorithm on the training data\n",
    "    alg.fit(train[predictors], train_target)\n",
    "        # Select and predict on the test fold \n",
    "        # We need to use .astype(float) to convert the dataframe to all floats and avoid an sklearn error\n",
    "    test_predictions = alg.predict_proba(test[predictors])[:,1]\n",
    "    full_test_predictions.append(test_predictions)\n",
    "    # Use a simple ensembling scheme&#8212;just average the predictions to get the final classification\n",
    "test_predictions = ( sum(full_test_predictions) / len(full_test_predictions) )\n",
    "    # Any value over .5 is assumed to be a 1 prediction, and below .5 is a 0 prediction\n",
    "test_predictions[test_predictions <= .5] = 0\n",
    "test_predictions[test_predictions > .5] = 1\n",
    "predictions.append(test_predictions)\n",
    "\n",
    "# Put all the predictions together into one array\n",
    "predictions = np.concatenate(predictions, axis=0).astype(int)\n",
    "\n",
    "\n",
    "\n",
    "submission = pd.DataFrame({\n",
    "        \"PassengerId\": test[\"PassengerId\"],\n",
    "        \"Survived\": predictions\n",
    "    })\n",
    "\n",
    "submission.to_csv('titanic-predictions-5.csv', index = False)"
   ]
  },
  {
   "cell_type": "code",
   "execution_count": null,
   "metadata": {
    "collapsed": true
   },
   "outputs": [],
   "source": []
  }
 ],
 "metadata": {
  "kernelspec": {
   "display_name": "Python 2",
   "language": "python",
   "name": "python2"
  }
 },
 "nbformat": 4,
 "nbformat_minor": 0
}
